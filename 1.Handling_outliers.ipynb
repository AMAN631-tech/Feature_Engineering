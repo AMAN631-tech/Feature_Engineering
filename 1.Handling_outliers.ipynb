{
 "cells": [
  {
   "cell_type": "markdown",
   "id": "e3702c58",
   "metadata": {},
   "source": [
    "#📌 What is an Outlier?\n",
    "##🔹 Definition:\n",
    "An outlier is a data point that is significantly different from other values in a dataset.\n",
    "\n",
    "# 🔹 Example:\n",
    "If the values in a dataset are:\n",
    "\n",
    "5, 6, 7, 6, 100\n",
    "\n",
    "Here, 100 is an outlier because it is far away from the other values.\n",
    "\n",
    "#🔹 Why Outliers Matter:\n",
    "\n",
    "They can skew averages.\n",
    "\n",
    "They might indicate data entry errors, special cases, or interesting trends.\n",
    "\n",
    "# 📊 What is the Five Number Summary?\n",
    "It is a summary that describes a dataset using five important values:\n",
    "\n",
    "| Name                  | Description                                  |\n",
    "| --------------------- | -------------------------------------------- |\n",
    "| **Minimum**           | The smallest value in the dataset            |\n",
    "| **Q1 (1st Quartile)** | 25% of the data lies below this value        |\n",
    "| **Median (Q2)**       | The middle value (50% of data lies below it) |\n",
    "| **Q3 (3rd Quartile)** | 75% of the data lies below this value        |\n",
    "| **Maximum**           | The largest value in the dataset             |\n"
   ]
  },
  {
   "cell_type": "code",
   "execution_count": 1,
   "id": "c0e30593",
   "metadata": {},
   "outputs": [],
   "source": [
    "## min,Q1,median,Q3,max"
   ]
  },
  {
   "cell_type": "code",
   "execution_count": 2,
   "id": "ebd3470b",
   "metadata": {},
   "outputs": [],
   "source": [
    "import numpy as np"
   ]
  },
  {
   "cell_type": "code",
   "execution_count": 3,
   "id": "7314049f",
   "metadata": {},
   "outputs": [],
   "source": [
    "lst_marks = [45,32,56,75,89,54,32,89,90,87,67,54,45,98,99,67,74]\n",
    "min,Q1,median,Q3,max = np.quantile(lst_marks,[0,0.25,0.50,0.75,1.0])"
   ]
  },
  {
   "cell_type": "code",
   "execution_count": 4,
   "id": "fcb04b4a",
   "metadata": {},
   "outputs": [
    {
     "data": {
      "text/plain": [
       "(np.float64(32.0),\n",
       " np.float64(99.0),\n",
       " np.float64(67.0),\n",
       " np.float64(54.0),\n",
       " np.float64(89.0))"
      ]
     },
     "execution_count": 4,
     "metadata": {},
     "output_type": "execute_result"
    }
   ],
   "source": [
    "min,max,median,Q1,Q3"
   ]
  },
  {
   "cell_type": "code",
   "execution_count": 5,
   "id": "726c840f",
   "metadata": {},
   "outputs": [
    {
     "name": "stdout",
     "output_type": "stream",
     "text": [
      "35.0\n"
     ]
    }
   ],
   "source": [
    "IQR = Q3-Q1\n",
    "print(IQR)"
   ]
  },
  {
   "cell_type": "code",
   "execution_count": 6,
   "id": "78671254",
   "metadata": {},
   "outputs": [],
   "source": [
    "lower_fance = Q1 - 1.5*(IQR)\n",
    "higher_fance = Q3 + 1.5*(IQR)"
   ]
  },
  {
   "cell_type": "code",
   "execution_count": 7,
   "id": "e224440f",
   "metadata": {},
   "outputs": [
    {
     "data": {
      "text/plain": [
       "np.float64(1.5)"
      ]
     },
     "execution_count": 7,
     "metadata": {},
     "output_type": "execute_result"
    }
   ],
   "source": [
    "lower_fance"
   ]
  },
  {
   "cell_type": "code",
   "execution_count": 8,
   "id": "805186ed",
   "metadata": {},
   "outputs": [
    {
     "data": {
      "text/plain": [
       "np.float64(141.5)"
      ]
     },
     "execution_count": 8,
     "metadata": {},
     "output_type": "execute_result"
    }
   ],
   "source": [
    "higher_fance"
   ]
  },
  {
   "cell_type": "code",
   "execution_count": 9,
   "id": "7de78a22",
   "metadata": {},
   "outputs": [],
   "source": [
    "import seaborn as sns\n",
    "import matplotlib.pyplot as plt"
   ]
  },
  {
   "cell_type": "code",
   "execution_count": 10,
   "id": "efd09c25",
   "metadata": {},
   "outputs": [
    {
     "data": {
      "image/png": "[encoded data removed]",
      "text/plain": [
       "<Figure size 640x480 with 1 Axes>"
      ]
     },
     "metadata": {},
     "output_type": "display_data"
    }
   ],
   "source": [
    "sns.set_theme(style=\"darkgrid\")\n",
    "sns.boxplot(lst_marks)\n",
    "plt.show()"
   ]
  },
  {
   "cell_type": "code",
   "execution_count": 11,
   "id": "76e62cd4",
   "metadata": {},
   "outputs": [],
   "source": [
    "lst_marks = lst_marks=[-100,-200,45,32,56,75,89,54,32,89,90,87,67,54,45,98,99,67,74,150,170,180]"
   ]
  },
  {
   "cell_type": "code",
   "execution_count": 12,
   "id": "30620749",
   "metadata": {},
   "outputs": [
    {
     "data": {
      "text/plain": [
       "<Axes: >"
      ]
     },
     "execution_count": 12,
     "metadata": {},
     "output_type": "execute_result"
    },
    {
     "data": {
      "image/png": "[encoded data removed]",
      "text/plain": [
       "<Figure size 640x480 with 1 Axes>"
      ]
     },
     "metadata": {},
     "output_type": "display_data"
    }
   ],
   "source": [
    "sns.boxplot(lst_marks)"
   ]
  },
  {
   "cell_type": "code",
   "execution_count": null,
   "id": "8150c847",
   "metadata": {},
   "outputs": [],
   "source": []
  }
 ],
 "metadata": {
  "kernelspec": {
   "display_name": "my_env (3.13.5)",
   "language": "python",
   "name": "python3"
  },
  "language_info": {
   "codemirror_mode": {
    "name": "ipython",
    "version": 3
   },
   "file_extension": ".py",
   "mimetype": "text/x-python",
   "name": "python",
   "nbconvert_exporter": "python",
   "pygments_lexer": "ipython3",
   "version": "3.13.5"
  }
 },
 "nbformat": 4,
 "nbformat_minor": 5
}
