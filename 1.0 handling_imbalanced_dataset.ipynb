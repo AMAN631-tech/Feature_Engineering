{
 "cells": [
  {
   "cell_type": "markdown",
   "id": "0b86710e",
   "metadata": {},
   "source": [
    "# What is an Imbalanced Dataset?\n",
    "An imbalanced dataset happens when one class has many more examples than the other(s).\n",
    "\n",
    "Example:\n",
    "| **Class**    | **Count** |\n",
    "| ------------ | --------- |\n",
    "| **Spam**     | 900       |\n",
    "| **Not Spam** | 100       |\n",
    "\n",
    "# Problem:\n",
    "If you train a model on this, it will predict \"Spam\" all the time just to get high accuracy,but it won’t learn properly about \"Not Spam\" cases.\n",
    "\n",
    "# Why is it a problem?\n",
    "\n",
    "Accuracy becomes misleading\n",
    "\n",
    "Model will ignore the smaller class\n",
    "\n",
    "Poor recall/precision for minority class\n",
    "\n"
   ]
  },
  {
   "cell_type": "code",
   "execution_count": 1,
   "metadata": {},
   "outputs": [
    {
     "name": "stdout",
     "output_type": "stream",
     "text": [
      "n_class_0: 900\n",
      "n_class_1: 100\n"
     ]
    }
   ],
   "source": [
    "import numpy as np\n",
    "\n",
    "n_samples = 1000\n",
    "class_0_ratio = 0.9\n",
    "\n",
    "n_class_0 = int(n_samples * class_0_ratio)\n",
    "n_class_1 = n_samples - n_class_0\n",
    "print(f'n_class_0: {n_class_0}')\n",
    "print(f'n_class_1: {n_class_1}')"
   ]
  },
  {
   "cell_type": "code",
   "execution_count": 2,
   "metadata": {},
   "outputs": [],
   "source": [
    "# Creating a dataframe..\n",
    "import pandas as pd\n",
    "class_0 = pd.DataFrame({\n",
    "    'Feature 1': np.random.normal(loc=1,scale=2,size=n_class_0),\n",
    "    'Feature 2': np.random.normal(loc=1,scale=2,size=n_class_0),\n",
    "    'target': [0] * n_class_0\n",
    "})\n",
    "class_1 = pd.DataFrame({\n",
    "    'Feature 1': np.random.normal(loc=2,scale=5,size=n_class_1),\n",
    "    'Feature 2': np.random.normal(loc=2,scale=5,size=n_class_1),\n",
    "    'target': [1] * n_class_1\n",
    "})\n"
   ]
  },
  {
   "cell_type": "code",
   "execution_count": 3,
   "id": "f048f033",
   "metadata": {},
   "outputs": [
    {
     "data": {
      "text/html": [
       "<div>\n",
       "<style scoped>\n",
       "    .dataframe tbody tr th:only-of-type {\n",
       "        vertical-align: middle;\n",
       "    }\n",
       "\n",
       "    .dataframe tbody tr th {\n",
       "        vertical-align: top;\n",
       "    }\n",
       "\n",
       "    .dataframe thead th {\n",
       "        text-align: right;\n",
       "    }\n",
       "</style>\n",
       "<table border=\"1\" class=\"dataframe\">\n",
       "  <thead>\n",
       "    <tr style=\"text-align: right;\">\n",
       "      <th></th>\n",
       "      <th>Feature 1</th>\n",
       "      <th>Feature 2</th>\n",
       "      <th>target</th>\n",
       "    </tr>\n",
       "  </thead>\n",
       "  <tbody>\n",
       "    <tr>\n",
       "      <th>0</th>\n",
       "      <td>-2.702744</td>\n",
       "      <td>-0.089673</td>\n",
       "      <td>0</td>\n",
       "    </tr>\n",
       "    <tr>\n",
       "      <th>1</th>\n",
       "      <td>1.525361</td>\n",
       "      <td>-1.206502</td>\n",
       "      <td>0</td>\n",
       "    </tr>\n",
       "    <tr>\n",
       "      <th>2</th>\n",
       "      <td>2.885846</td>\n",
       "      <td>1.511799</td>\n",
       "      <td>0</td>\n",
       "    </tr>\n",
       "    <tr>\n",
       "      <th>3</th>\n",
       "      <td>3.073158</td>\n",
       "      <td>1.154589</td>\n",
       "      <td>0</td>\n",
       "    </tr>\n",
       "    <tr>\n",
       "      <th>4</th>\n",
       "      <td>2.046138</td>\n",
       "      <td>-0.935897</td>\n",
       "      <td>0</td>\n",
       "    </tr>\n",
       "  </tbody>\n",
       "</table>\n",
       "</div>"
      ],
      "text/plain": [
       "   Feature 1  Feature 2  target\n",
       "0  -2.702744  -0.089673       0\n",
       "1   1.525361  -1.206502       0\n",
       "2   2.885846   1.511799       0\n",
       "3   3.073158   1.154589       0\n",
       "4   2.046138  -0.935897       0"
      ]
     },
     "execution_count": 3,
     "metadata": {},
     "output_type": "execute_result"
    }
   ],
   "source": [
    "df=pd.concat([class_0,class_1]).reset_index(drop=True)\n",
    "df.head()"
   ]
  },
  {
   "cell_type": "code",
   "execution_count": 4,
   "id": "07d63990",
   "metadata": {},
   "outputs": [
    {
     "data": {
      "text/plain": [
       "target\n",
       "0    900\n",
       "1    100\n",
       "Name: count, dtype: int64"
      ]
     },
     "execution_count": 4,
     "metadata": {},
     "output_type": "execute_result"
    }
   ],
   "source": [
    "df.target.value_counts()"
   ]
  },
  {
   "cell_type": "markdown",
   "id": "327f6829",
   "metadata": {},
   "source": [
    "# 1️⃣Upsampling:\n",
    "\n",
    "You increase the number of samples in the minority class by duplicating existing samples or creating synthetic samples.\n",
    "\n",
    "Goal: Balance the classes\n",
    "\n",
    "# What Are Synthetic Samples?....we will practice this later...\n",
    "Synthetic samples are artificial data points created by the computer, not collected from real-world data.\n",
    "\n",
    "In imbalanced datasets, synthetic samples are used to:\n",
    "\n",
    "Increase the minority class size\n",
    "\n",
    "Avoid exact duplicates (like simple upsampling)\n",
    "\n",
    "Reduce overfitting\n",
    "\n"
   ]
  },
  {
   "cell_type": "code",
   "execution_count": 5,
   "id": "cc6f10fd",
   "metadata": {},
   "outputs": [
    {
     "name": "stdout",
     "output_type": "stream",
     "text": [
      "shape of df_majority (900, 3)\n",
      "shape of df_minority (100, 3)\n"
     ]
    }
   ],
   "source": [
    "df_majority = df[df['target'] == 0]\n",
    "df_minority = df[df['target'] == 1]\n",
    "\n",
    "print('shape of df_majority',df_majority.shape)\n",
    "print('shape of df_minority',df_minority.shape)"
   ]
  },
  {
   "cell_type": "code",
   "execution_count": 6,
   "id": "cc11b103",
   "metadata": {},
   "outputs": [],
   "source": [
    "from sklearn.utils import resample  "
   ]
  },
  {
   "cell_type": "code",
   "execution_count": 7,
   "id": "a303010c",
   "metadata": {},
   "outputs": [],
   "source": [
    "df_minority_upsampled=resample(df_minority,\n",
    "         replace=True,\n",
    "         n_samples=len(df_majority),\n",
    "         random_state=42)\n",
    "\n",
    "# replace=True means sampling with replacement.\n",
    "# With replacement:\n",
    "\n",
    "# After selecting a sample, it is put back into the dataset before the next \n",
    "# sample is picked.\n",
    "\n",
    "# So, duplicates can occur because the same data point can be picked \n",
    "# multiple times."
   ]
  },
  {
   "cell_type": "code",
   "execution_count": 8,
   "id": "2c260f57",
   "metadata": {},
   "outputs": [
    {
     "data": {
      "text/plain": [
       "(900, 3)"
      ]
     },
     "execution_count": 8,
     "metadata": {},
     "output_type": "execute_result"
    }
   ],
   "source": [
    "df_minority_upsampled.shape"
   ]
  },
  {
   "cell_type": "code",
   "execution_count": 9,
   "id": "9ef1c723",
   "metadata": {},
   "outputs": [
    {
     "data": {
      "text/html": [
       "<div>\n",
       "<style scoped>\n",
       "    .dataframe tbody tr th:only-of-type {\n",
       "        vertical-align: middle;\n",
       "    }\n",
       "\n",
       "    .dataframe tbody tr th {\n",
       "        vertical-align: top;\n",
       "    }\n",
       "\n",
       "    .dataframe thead th {\n",
       "        text-align: right;\n",
       "    }\n",
       "</style>\n",
       "<table border=\"1\" class=\"dataframe\">\n",
       "  <thead>\n",
       "    <tr style=\"text-align: right;\">\n",
       "      <th></th>\n",
       "      <th>Feature 1</th>\n",
       "      <th>Feature 2</th>\n",
       "      <th>target</th>\n",
       "    </tr>\n",
       "  </thead>\n",
       "  <tbody>\n",
       "    <tr>\n",
       "      <th>951</th>\n",
       "      <td>5.203665</td>\n",
       "      <td>3.615366</td>\n",
       "      <td>1</td>\n",
       "    </tr>\n",
       "    <tr>\n",
       "      <th>992</th>\n",
       "      <td>2.255191</td>\n",
       "      <td>0.161786</td>\n",
       "      <td>1</td>\n",
       "    </tr>\n",
       "    <tr>\n",
       "      <th>914</th>\n",
       "      <td>6.623633</td>\n",
       "      <td>-2.184547</td>\n",
       "      <td>1</td>\n",
       "    </tr>\n",
       "    <tr>\n",
       "      <th>971</th>\n",
       "      <td>6.386927</td>\n",
       "      <td>3.688517</td>\n",
       "      <td>1</td>\n",
       "    </tr>\n",
       "    <tr>\n",
       "      <th>960</th>\n",
       "      <td>-0.260834</td>\n",
       "      <td>0.225929</td>\n",
       "      <td>1</td>\n",
       "    </tr>\n",
       "  </tbody>\n",
       "</table>\n",
       "</div>"
      ],
      "text/plain": [
       "     Feature 1  Feature 2  target\n",
       "951   5.203665   3.615366       1\n",
       "992   2.255191   0.161786       1\n",
       "914   6.623633  -2.184547       1\n",
       "971   6.386927   3.688517       1\n",
       "960  -0.260834   0.225929       1"
      ]
     },
     "execution_count": 9,
     "metadata": {},
     "output_type": "execute_result"
    }
   ],
   "source": [
    "df_minority_upsampled.head()"
   ]
  },
  {
   "cell_type": "code",
   "execution_count": 10,
   "id": "744b15e7",
   "metadata": {},
   "outputs": [],
   "source": [
    "df_upsampled = pd.concat([df_minority_upsampled,df_majority])"
   ]
  },
  {
   "cell_type": "code",
   "execution_count": 11,
   "id": "cf550099",
   "metadata": {},
   "outputs": [
    {
     "data": {
      "text/plain": [
       "(1800, 3)"
      ]
     },
     "execution_count": 11,
     "metadata": {},
     "output_type": "execute_result"
    }
   ],
   "source": [
    "df_upsampled.shape"
   ]
  },
  {
   "cell_type": "markdown",
   "id": "ea753d47",
   "metadata": {},
   "source": [
    "# Down Sampling\n",
    "\n",
    "2️⃣ Downsampling (Undersampling the Majority Class)\n",
    "Meaning:\n",
    "\n",
    "You reduce the number of samples in the majority class by randomly removing data.\n",
    "\n",
    "Goal: Balance the classes"
   ]
  },
  {
   "cell_type": "code",
   "execution_count": 12,
   "id": "409ca2d9",
   "metadata": {},
   "outputs": [],
   "source": [
    "np.random.seed(124)\n",
    "\n",
    "n__sample = 1000\n",
    "class__0_ratio = 0.9\n",
    "n__class_0 = int(n__sample * class__0_ratio)\n",
    "n__class_1 = n__sample - n__class_0\n"
   ]
  },
  {
   "cell_type": "code",
   "execution_count": 13,
   "id": "73f33ac3",
   "metadata": {},
   "outputs": [],
   "source": [
    "class__0 = pd.DataFrame({\n",
    "    'feature 1' : np.random.normal(loc=1,scale=2,size=n__class_0),\n",
    "    'feature 2' : np.random.normal(loc=1,scale=2,size=n__class_0),\n",
    "    'target' : [0] * n__class_0\n",
    "})\n",
    "\n",
    "class__1 = pd.DataFrame({\n",
    "    'feature 1' : np.random.normal(loc=2,scale=4,size=n__class_1),\n",
    "    'feature 2' : np.random.normal(loc=2,scale=4,size=n__class_1),\n",
    "    'target' : [1] * n__class_1\n",
    "})"
   ]
  },
  {
   "cell_type": "code",
   "execution_count": 14,
   "id": "41b79769",
   "metadata": {},
   "outputs": [],
   "source": [
    "df1 = pd.concat([class__0,class__1]).reset_index(drop=True)"
   ]
  },
  {
   "cell_type": "code",
   "execution_count": 15,
   "id": "09b9fa80",
   "metadata": {},
   "outputs": [
    {
     "data": {
      "text/plain": [
       "(1000, 3)"
      ]
     },
     "execution_count": 15,
     "metadata": {},
     "output_type": "execute_result"
    }
   ],
   "source": [
    "df1.shape"
   ]
  },
  {
   "cell_type": "code",
   "execution_count": 16,
   "id": "09289853",
   "metadata": {},
   "outputs": [
    {
     "data": {
      "text/plain": [
       "target\n",
       "0    900\n",
       "1    100\n",
       "Name: count, dtype: int64"
      ]
     },
     "execution_count": 16,
     "metadata": {},
     "output_type": "execute_result"
    }
   ],
   "source": [
    "df1.target.value_counts()"
   ]
  },
  {
   "cell_type": "code",
   "execution_count": 17,
   "id": "b66b24e0",
   "metadata": {},
   "outputs": [],
   "source": [
    "## downsampling\n",
    "df1_minority=df1[df1['target']==1]\n",
    "df1_majority=df1[df1['target']==0]"
   ]
  },
  {
   "cell_type": "code",
   "execution_count": 18,
   "id": "67173409",
   "metadata": {},
   "outputs": [],
   "source": [
    "from sklearn.utils import resample\n",
    "df1_majority_downsampled=resample(df1_majority,replace=False, #Sample With replacement\n",
    "         n_samples=len(df1_minority),\n",
    "         random_state=42\n",
    "        )"
   ]
  },
  {
   "cell_type": "code",
   "execution_count": 19,
   "id": "83de15af",
   "metadata": {},
   "outputs": [
    {
     "data": {
      "text/plain": [
       "(100, 3)"
      ]
     },
     "execution_count": 19,
     "metadata": {},
     "output_type": "execute_result"
    }
   ],
   "source": [
    "df1_majority_downsampled.shape"
   ]
  },
  {
   "cell_type": "code",
   "execution_count": 20,
   "id": "4b5b3d01",
   "metadata": {},
   "outputs": [],
   "source": [
    "df1_downsampled = pd.concat([df1_majority_downsampled,df1_minority])"
   ]
  },
  {
   "cell_type": "code",
   "execution_count": 21,
   "id": "0454bab6",
   "metadata": {},
   "outputs": [
    {
     "data": {
      "text/html": [
       "<div>\n",
       "<style scoped>\n",
       "    .dataframe tbody tr th:only-of-type {\n",
       "        vertical-align: middle;\n",
       "    }\n",
       "\n",
       "    .dataframe tbody tr th {\n",
       "        vertical-align: top;\n",
       "    }\n",
       "\n",
       "    .dataframe thead th {\n",
       "        text-align: right;\n",
       "    }\n",
       "</style>\n",
       "<table border=\"1\" class=\"dataframe\">\n",
       "  <thead>\n",
       "    <tr style=\"text-align: right;\">\n",
       "      <th></th>\n",
       "      <th>feature 1</th>\n",
       "      <th>feature 2</th>\n",
       "      <th>target</th>\n",
       "    </tr>\n",
       "  </thead>\n",
       "  <tbody>\n",
       "    <tr>\n",
       "      <th>70</th>\n",
       "      <td>2.997489</td>\n",
       "      <td>-0.208579</td>\n",
       "      <td>0</td>\n",
       "    </tr>\n",
       "    <tr>\n",
       "      <th>827</th>\n",
       "      <td>2.091802</td>\n",
       "      <td>-0.823175</td>\n",
       "      <td>0</td>\n",
       "    </tr>\n",
       "    <tr>\n",
       "      <th>231</th>\n",
       "      <td>2.246231</td>\n",
       "      <td>-0.024955</td>\n",
       "      <td>0</td>\n",
       "    </tr>\n",
       "    <tr>\n",
       "      <th>588</th>\n",
       "      <td>2.541803</td>\n",
       "      <td>4.233045</td>\n",
       "      <td>0</td>\n",
       "    </tr>\n",
       "    <tr>\n",
       "      <th>39</th>\n",
       "      <td>-3.605107</td>\n",
       "      <td>2.894630</td>\n",
       "      <td>0</td>\n",
       "    </tr>\n",
       "    <tr>\n",
       "      <th>...</th>\n",
       "      <td>...</td>\n",
       "      <td>...</td>\n",
       "      <td>...</td>\n",
       "    </tr>\n",
       "    <tr>\n",
       "      <th>995</th>\n",
       "      <td>-1.972379</td>\n",
       "      <td>-0.661294</td>\n",
       "      <td>1</td>\n",
       "    </tr>\n",
       "    <tr>\n",
       "      <th>996</th>\n",
       "      <td>0.260730</td>\n",
       "      <td>0.027519</td>\n",
       "      <td>1</td>\n",
       "    </tr>\n",
       "    <tr>\n",
       "      <th>997</th>\n",
       "      <td>-0.636976</td>\n",
       "      <td>-6.637926</td>\n",
       "      <td>1</td>\n",
       "    </tr>\n",
       "    <tr>\n",
       "      <th>998</th>\n",
       "      <td>-2.691417</td>\n",
       "      <td>6.052280</td>\n",
       "      <td>1</td>\n",
       "    </tr>\n",
       "    <tr>\n",
       "      <th>999</th>\n",
       "      <td>-1.100502</td>\n",
       "      <td>5.247986</td>\n",
       "      <td>1</td>\n",
       "    </tr>\n",
       "  </tbody>\n",
       "</table>\n",
       "<p>200 rows × 3 columns</p>\n",
       "</div>"
      ],
      "text/plain": [
       "     feature 1  feature 2  target\n",
       "70    2.997489  -0.208579       0\n",
       "827   2.091802  -0.823175       0\n",
       "231   2.246231  -0.024955       0\n",
       "588   2.541803   4.233045       0\n",
       "39   -3.605107   2.894630       0\n",
       "..         ...        ...     ...\n",
       "995  -1.972379  -0.661294       1\n",
       "996   0.260730   0.027519       1\n",
       "997  -0.636976  -6.637926       1\n",
       "998  -2.691417   6.052280       1\n",
       "999  -1.100502   5.247986       1\n",
       "\n",
       "[200 rows x 3 columns]"
      ]
     },
     "execution_count": 21,
     "metadata": {},
     "output_type": "execute_result"
    }
   ],
   "source": [
    "df1_downsampled"
   ]
  },
  {
   "cell_type": "code",
   "execution_count": null,
   "id": "869ea67e",
   "metadata": {},
   "outputs": [],
   "source": []
  }
 ],
 "metadata": {
  "kernelspec": {
   "display_name": "my_env (3.13.5)",
   "language": "python",
   "name": "python3"
  },
  "language_info": {
   "codemirror_mode": {
    "name": "ipython",
    "version": 3
   },
   "file_extension": ".py",
   "mimetype": "text/x-python",
   "name": "python",
   "nbconvert_exporter": "python",
   "pygments_lexer": "ipython3",
   "version": "3.13.5"
  }
 },
 "nbformat": 4,
 "nbformat_minor": 5
}
